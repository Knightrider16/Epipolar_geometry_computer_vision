{
 "cells": [
  {
   "cell_type": "code",
   "execution_count": 47,
   "id": "f5753710",
   "metadata": {},
   "outputs": [
    {
     "name": "stdout",
     "output_type": "stream",
     "text": [
      "Coordinates of the 3D point:\n",
      " [10  2  5  1]\n",
      "Intrinsic matrix of the camera:\n",
      " [[800   0   0]\n",
      " [  0 800   0]\n",
      " [  0   0   1]]\n"
     ]
    }
   ],
   "source": [
    "import numpy as np\n",
    "\n",
    "X = np.array([10, 2, 5, 1]) \n",
    "\n",
    "K = np.array([[800, 0, 0],\n",
    "              [0, 800, 0],\n",
    "              [0,   0, 1]])\n",
    "\n",
    "print(\"Coordinates of the 3D point:\\n\", X)\n",
    "print(\"Intrinsic matrix of the camera:\\n\", K)"
   ]
  },
  {
   "cell_type": "code",
   "execution_count": 48,
   "id": "e41e0b24",
   "metadata": {},
   "outputs": [
    {
     "name": "stdout",
     "output_type": "stream",
     "text": [
      "Projection matrix for camera 1:\n",
      " [[800.   0.   0.   0.]\n",
      " [  0. 800.   0.   0.]\n",
      " [  0.   0.   1.   0.]]\n",
      "Projection matrix for camera 2:\n",
      " [[ 8.0e+02  0.0e+00  0.0e+00 -8.0e+02]\n",
      " [ 0.0e+00  8.0e+02  0.0e+00  2.4e+03]\n",
      " [ 0.0e+00  0.0e+00  1.0e+00  0.0e+00]]\n"
     ]
    }
   ],
   "source": [
    "R1 = np.eye(3)\n",
    "t1 = np.zeros((3,1))\n",
    "P1 = K @ np.hstack((R1, t1))\n",
    "\n",
    "R2 = np.eye(3)\n",
    "t2 = np.array([[1],[-3],[0]])\n",
    "P2 = K @ np.hstack((R2, -t2))\n",
    "\n",
    "print(\"Projection matrix for camera 1:\\n\", P1)\n",
    "print(\"Projection matrix for camera 2:\\n\", P2)"
   ]
  },
  {
   "cell_type": "code",
   "execution_count": 49,
   "id": "5dc38722",
   "metadata": {},
   "outputs": [],
   "source": [
    "def project(P, X):\n",
    "    x = P @ X\n",
    "    return x[:2] / x[2]"
   ]
  },
  {
   "cell_type": "code",
   "execution_count": 50,
   "id": "6c114700",
   "metadata": {},
   "outputs": [
    {
     "name": "stdout",
     "output_type": "stream",
     "text": [
      "Pixel in Cam1: [1600.  320.]\n",
      "Pixel in Cam2: [1440.  800.]\n"
     ]
    }
   ],
   "source": [
    "x1 = project(P1, X) \n",
    "x2 = project(P2, X)\n",
    "print(\"Pixel in Cam1:\", x1)\n",
    "print(\"Pixel in Cam2:\", x2)"
   ]
  },
  {
   "cell_type": "code",
   "execution_count": 51,
   "id": "99a924b3",
   "metadata": {},
   "outputs": [],
   "source": [
    "def hat(v): \n",
    "    return np.array([[0, -v[2], v[1]],\n",
    "                     [v[2], 0, -v[0]],\n",
    "                     [-v[1], v[0], 0]])"
   ]
  },
  {
   "cell_type": "code",
   "execution_count": 52,
   "id": "f1c38c74",
   "metadata": {},
   "outputs": [
    {
     "name": "stdout",
     "output_type": "stream",
     "text": [
      "Essential matrix:\n",
      " [[ 0.  0. -3.]\n",
      " [ 0.  0. -1.]\n",
      " [ 3.  1.  0.]]\n"
     ]
    }
   ],
   "source": [
    "R = R2 @ R1.T\n",
    "t = t2\n",
    "E = hat(t.flatten()) @ R\n",
    "print(\"Essential matrix:\\n\", E)"
   ]
  },
  {
   "cell_type": "code",
   "execution_count": 53,
   "id": "02f76d65",
   "metadata": {},
   "outputs": [
    {
     "name": "stdout",
     "output_type": "stream",
     "text": [
      "Epipolar line in Cam2: [-3.00e+00 -1.00e+00  5.12e+03]\n",
      "Check p2 lies on line: 0.0\n"
     ]
    }
   ],
   "source": [
    "p1 = np.array([x1[0], x1[1], 1])\n",
    "l2 = E @ p1\n",
    "print(\"Epipolar line in Cam2:\", l2)\n",
    "\n",
    "p2 = np.array([x2[0], x2[1], 1])\n",
    "val = p2 @ l2\n",
    "print(\"Check p2 lies on line:\", val)"
   ]
  }
 ],
 "metadata": {
  "kernelspec": {
   "display_name": "Python 3",
   "language": "python",
   "name": "python3"
  },
  "language_info": {
   "codemirror_mode": {
    "name": "ipython",
    "version": 3
   },
   "file_extension": ".py",
   "mimetype": "text/x-python",
   "name": "python",
   "nbconvert_exporter": "python",
   "pygments_lexer": "ipython3",
   "version": "3.13.2"
  }
 },
 "nbformat": 4,
 "nbformat_minor": 5
}
